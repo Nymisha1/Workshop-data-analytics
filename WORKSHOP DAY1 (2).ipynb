{
 "cells": [
  {
   "cell_type": "code",
   "execution_count": 4,
   "id": "76dd2f5b",
   "metadata": {},
   "outputs": [
    {
     "name": "stdout",
     "output_type": "stream",
     "text": [
      "Enter n value4\n",
      "Enter values122 455 788 366\n",
      "21\n"
     ]
    }
   ],
   "source": [
    "#read n integers from user and find the sum of the middle digits in it \n",
    "n=int(input(\"Enter n value\"))\n",
    "l=list(map(str,input(\"Enter values\").split()))[:n]\n",
    "s=0\n",
    "for i in l:\n",
    "    x=int(i[1])\n",
    "    s+=x\n",
    "print(s)"
   ]
  },
  {
   "cell_type": "markdown",
   "id": "d2eb0329",
   "metadata": {},
   "source": [
    "- Types of data in real time\n",
    "  1. Quantitavive and \n",
    "     - Represents the size/volume of data \n",
    "     - Discrete and continuous \n",
    "        - This type of data is fixed/constant\n",
    "          - Ex: numbers on die: varies from 1 to 0\n",
    "            - distance,color,nationality,size,etc\n",
    "        - continous data means the value/data is continous \n",
    "  2. Qualitative\n",
    "     - Data is observed and placed in terms of category\n",
    "       - Ex: Data submission in feedback form\n",
    "- Data and statistics\n",
    "  - nominal,ordinal,interval and radio\n",
    "        "
   ]
  },
  {
   "cell_type": "markdown",
   "id": "01a0569e",
   "metadata": {},
   "source": [
    "#### importing module\n",
    "- Numpy\n",
    "- Pandas\n",
    "- Matplotlib and seaborn"
   ]
  },
  {
   "cell_type": "code",
   "execution_count": 8,
   "id": "454feb7e",
   "metadata": {},
   "outputs": [],
   "source": [
    "import numpy \n"
   ]
  },
  {
   "cell_type": "code",
   "execution_count": 9,
   "id": "b9a3e940",
   "metadata": {},
   "outputs": [
    {
     "data": {
      "text/plain": [
       "'1.20.1'"
      ]
     },
     "execution_count": 9,
     "metadata": {},
     "output_type": "execute_result"
    }
   ],
   "source": [
    "# version of numpy\n",
    "numpy.__version__"
   ]
  },
  {
   "cell_type": "markdown",
   "id": "bb0651e4",
   "metadata": {},
   "source": [
    "#### Numpy \n",
    "- Numpy stnds for numerical python\n",
    "- which is used to deal with array type of data,scientific computation"
   ]
  },
  {
   "cell_type": "markdown",
   "id": "25b38527",
   "metadata": {},
   "source": [
    "##### array creation()\n",
    "- array() is the submodule in numpy module\n",
    "- np.array(iterable)"
   ]
  },
  {
   "cell_type": "code",
   "execution_count": 11,
   "id": "f601390c",
   "metadata": {},
   "outputs": [
    {
     "name": "stdout",
     "output_type": "stream",
     "text": [
      "[ 3  4  5  6  7  9 10]\n"
     ]
    }
   ],
   "source": [
    "print(numpy.array([3,4,5,6,7,9,10]))#homogeneous data structure"
   ]
  },
  {
   "cell_type": "code",
   "execution_count": 12,
   "id": "0730d6a6",
   "metadata": {},
   "outputs": [],
   "source": [
    "t=numpy.array((5,6,7,8,9))"
   ]
  },
  {
   "cell_type": "code",
   "execution_count": 13,
   "id": "adde45e8",
   "metadata": {},
   "outputs": [
    {
     "name": "stdout",
     "output_type": "stream",
     "text": [
      "[5 6 7 8 9]\n"
     ]
    }
   ],
   "source": [
    "print(t)"
   ]
  },
  {
   "cell_type": "code",
   "execution_count": 15,
   "id": "f0ff3863",
   "metadata": {},
   "outputs": [
    {
     "data": {
      "text/plain": [
       "array([45.5 , 44.76, 67.6 , 55.88])"
      ]
     },
     "execution_count": 15,
     "metadata": {},
     "output_type": "execute_result"
    }
   ],
   "source": [
    "ar=numpy.array([45.5,44.76,67.6,55.88])\n",
    "ar"
   ]
  },
  {
   "cell_type": "code",
   "execution_count": 17,
   "id": "834a25e0",
   "metadata": {},
   "outputs": [
    {
     "data": {
      "text/plain": [
       "array([ 34.56, 459.65, 558.36])"
      ]
     },
     "execution_count": 17,
     "metadata": {},
     "output_type": "execute_result"
    }
   ],
   "source": [
    "f1=numpy.array([34.56,459.65,558.36],dtype=\"float\")\n",
    "f1"
   ]
  },
  {
   "cell_type": "code",
   "execution_count": 23,
   "id": "f6bf95ef",
   "metadata": {},
   "outputs": [
    {
     "data": {
      "text/plain": [
       "array(['34.56', '459.65', '558.36'], dtype='<U6')"
      ]
     },
     "execution_count": 23,
     "metadata": {},
     "output_type": "execute_result"
    }
   ],
   "source": [
    "st=numpy.array([34.56,459.65,558.36],dtype='str')\n",
    "st\n"
   ]
  },
  {
   "cell_type": "code",
   "execution_count": 24,
   "id": "8e12babe",
   "metadata": {},
   "outputs": [
    {
     "data": {
      "text/plain": [
       "array([0, 1, 2, 3, 4, 5, 6, 7, 8, 9])"
      ]
     },
     "execution_count": 24,
     "metadata": {},
     "output_type": "execute_result"
    }
   ],
   "source": [
    "# Creating 1-D arrays\n",
    "rn=numpy.array(range(10))\n",
    "rn"
   ]
  },
  {
   "cell_type": "code",
   "execution_count": 25,
   "id": "da04715c",
   "metadata": {},
   "outputs": [
    {
     "data": {
      "text/plain": [
       "array([1, 2, 3, 4, 5, 6, 7])"
      ]
     },
     "execution_count": 25,
     "metadata": {},
     "output_type": "execute_result"
    }
   ],
   "source": [
    "r2=numpy.array(range(1,8))\n",
    "r2"
   ]
  },
  {
   "cell_type": "code",
   "execution_count": 26,
   "id": "817ec3eb",
   "metadata": {},
   "outputs": [
    {
     "data": {
      "text/plain": [
       "array([1, 3, 5, 7])"
      ]
     },
     "execution_count": 26,
     "metadata": {},
     "output_type": "execute_result"
    }
   ],
   "source": [
    "r3=numpy.array(range(1,8,2))\n",
    "r3"
   ]
  },
  {
   "cell_type": "code",
   "execution_count": 27,
   "id": "834145c2",
   "metadata": {},
   "outputs": [
    {
     "data": {
      "text/plain": [
       "1"
      ]
     },
     "execution_count": 27,
     "metadata": {},
     "output_type": "execute_result"
    }
   ],
   "source": [
    "r3.ndim"
   ]
  },
  {
   "cell_type": "code",
   "execution_count": 28,
   "id": "3f796b32",
   "metadata": {},
   "outputs": [
    {
     "data": {
      "text/plain": [
       "array([[1, 2, 3, 4],\n",
       "       [5, 6, 7, 8]])"
      ]
     },
     "execution_count": 28,
     "metadata": {},
     "output_type": "execute_result"
    }
   ],
   "source": [
    "l2=numpy.array([[1,2,3,4],[5,6,7,8]])\n",
    "l2"
   ]
  },
  {
   "cell_type": "code",
   "execution_count": 29,
   "id": "491c0533",
   "metadata": {},
   "outputs": [
    {
     "data": {
      "text/plain": [
       "array([[[1, 2, 3, 4],\n",
       "        [5, 6, 7, 8],\n",
       "        [4, 5, 8, 2]]])"
      ]
     },
     "execution_count": 29,
     "metadata": {},
     "output_type": "execute_result"
    }
   ],
   "source": [
    "l3=numpy.array([[[1,2,3,4],[5,6,7,8],[4,5,8,2]]])\n",
    "l3"
   ]
  },
  {
   "cell_type": "code",
   "execution_count": 30,
   "id": "d9d2cb1b",
   "metadata": {},
   "outputs": [
    {
     "data": {
      "text/plain": [
       "2"
      ]
     },
     "execution_count": 30,
     "metadata": {},
     "output_type": "execute_result"
    }
   ],
   "source": [
    "l2.ndim"
   ]
  },
  {
   "cell_type": "code",
   "execution_count": 31,
   "id": "12c797a6",
   "metadata": {},
   "outputs": [
    {
     "data": {
      "text/plain": [
       "3"
      ]
     },
     "execution_count": 31,
     "metadata": {},
     "output_type": "execute_result"
    }
   ],
   "source": [
    "l3.ndim"
   ]
  },
  {
   "cell_type": "code",
   "execution_count": 32,
   "id": "944f10d3",
   "metadata": {},
   "outputs": [
    {
     "data": {
      "text/plain": [
       "12"
      ]
     },
     "execution_count": 32,
     "metadata": {},
     "output_type": "execute_result"
    }
   ],
   "source": [
    "l3.size"
   ]
  },
  {
   "cell_type": "code",
   "execution_count": 33,
   "id": "4f686de6",
   "metadata": {},
   "outputs": [
    {
     "data": {
      "text/plain": [
       "(1, 3, 4)"
      ]
     },
     "execution_count": 33,
     "metadata": {},
     "output_type": "execute_result"
    }
   ],
   "source": [
    "l3.shape"
   ]
  },
  {
   "cell_type": "code",
   "execution_count": 34,
   "id": "d2eb2611",
   "metadata": {},
   "outputs": [
    {
     "data": {
      "text/plain": [
       "4"
      ]
     },
     "execution_count": 34,
     "metadata": {},
     "output_type": "execute_result"
    }
   ],
   "source": [
    "l3.itemsize\n"
   ]
  },
  {
   "cell_type": "code",
   "execution_count": 35,
   "id": "bc129e66",
   "metadata": {},
   "outputs": [
    {
     "data": {
      "text/plain": [
       "24"
      ]
     },
     "execution_count": 35,
     "metadata": {},
     "output_type": "execute_result"
    }
   ],
   "source": [
    "st.itemsize"
   ]
  },
  {
   "cell_type": "code",
   "execution_count": 22,
   "id": "17398558",
   "metadata": {},
   "outputs": [
    {
     "data": {
      "text/plain": [
       "array([[1., 0., 0., 0.],\n",
       "       [0., 1., 0., 0.],\n",
       "       [0., 0., 1., 0.],\n",
       "       [0., 0., 0., 1.]])"
      ]
     },
     "execution_count": 22,
     "metadata": {},
     "output_type": "execute_result"
    }
   ],
   "source": [
    "# Unit matrixc\n",
    "i=numpy.eye(4)\n",
    "i"
   ]
  },
  {
   "cell_type": "code",
   "execution_count": 40,
   "id": "8fa74a57",
   "metadata": {},
   "outputs": [
    {
     "data": {
      "text/plain": [
       "array([[1., 0., 0., 0., 0.],\n",
       "       [0., 1., 0., 0., 0.],\n",
       "       [0., 0., 1., 0., 0.],\n",
       "       [0., 0., 0., 1., 0.]])"
      ]
     },
     "execution_count": 40,
     "metadata": {},
     "output_type": "execute_result"
    }
   ],
   "source": [
    "i2=numpy.eye(4,5)\n",
    "i2"
   ]
  },
  {
   "cell_type": "code",
   "execution_count": 37,
   "id": "817c8f3c",
   "metadata": {},
   "outputs": [
    {
     "data": {
      "text/plain": [
       "array([[[[[[[[[[12, 34, 56]]]]]]]]]])"
      ]
     },
     "execution_count": 37,
     "metadata": {},
     "output_type": "execute_result"
    }
   ],
   "source": [
    "l5=numpy.array([12,34,56],ndmin=10)\n",
    "l5"
   ]
  },
  {
   "cell_type": "code",
   "execution_count": 38,
   "id": "c29fb42e",
   "metadata": {},
   "outputs": [
    {
     "data": {
      "text/plain": [
       "array([0., 0., 0., 0.])"
      ]
     },
     "execution_count": 38,
     "metadata": {},
     "output_type": "execute_result"
    }
   ],
   "source": [
    "z=numpy.zeros(4)\n",
    "z"
   ]
  },
  {
   "cell_type": "code",
   "execution_count": 39,
   "id": "0f689a4a",
   "metadata": {},
   "outputs": [
    {
     "data": {
      "text/plain": [
       "array([[0., 0., 0.],\n",
       "       [0., 0., 0.],\n",
       "       [0., 0., 0.],\n",
       "       [0., 0., 0.]])"
      ]
     },
     "execution_count": 39,
     "metadata": {},
     "output_type": "execute_result"
    }
   ],
   "source": [
    "z=numpy.zeros((4,3))\n",
    "z"
   ]
  },
  {
   "cell_type": "code",
   "execution_count": 41,
   "id": "67a6cb87",
   "metadata": {},
   "outputs": [
    {
     "data": {
      "text/plain": [
       "array([1., 1., 1., 1., 1.])"
      ]
     },
     "execution_count": 41,
     "metadata": {},
     "output_type": "execute_result"
    }
   ],
   "source": [
    "o=numpy.ones(5)\n",
    "o"
   ]
  },
  {
   "cell_type": "code",
   "execution_count": 43,
   "id": "170f53f8",
   "metadata": {},
   "outputs": [
    {
     "data": {
      "text/plain": [
       "array([[1., 1., 1.],\n",
       "       [1., 1., 1.],\n",
       "       [1., 1., 1.],\n",
       "       [1., 1., 1.],\n",
       "       [1., 1., 1.]])"
      ]
     },
     "execution_count": 43,
     "metadata": {},
     "output_type": "execute_result"
    }
   ],
   "source": [
    "o2=numpy.ones((5,3))\n",
    "o2"
   ]
  },
  {
   "cell_type": "code",
   "execution_count": 47,
   "id": "7fcde1b8",
   "metadata": {},
   "outputs": [
    {
     "data": {
      "text/plain": [
       "array(['hi', 'hi', 'hi', 'hi'], dtype='<U2')"
      ]
     },
     "execution_count": 47,
     "metadata": {},
     "output_type": "execute_result"
    }
   ],
   "source": [
    "f=numpy.full(4,'hi') # row size,ele\n",
    "f"
   ]
  },
  {
   "cell_type": "code",
   "execution_count": 49,
   "id": "a6d0f045",
   "metadata": {},
   "outputs": [
    {
     "data": {
      "text/plain": [
       "array(['N', 'N', 'N', 'N'], dtype='<U2')"
      ]
     },
     "execution_count": 49,
     "metadata": {},
     "output_type": "execute_result"
    }
   ],
   "source": [
    "f.fill('N')\n",
    "\n",
    "f"
   ]
  },
  {
   "cell_type": "code",
   "execution_count": 50,
   "id": "c3d693d5",
   "metadata": {},
   "outputs": [
    {
     "data": {
      "text/plain": [
       "array([ 10.        ,  31.11111111,  52.22222222,  73.33333333,\n",
       "        94.44444444, 115.55555556, 136.66666667, 157.77777778,\n",
       "       178.88888889, 200.        ])"
      ]
     },
     "execution_count": 50,
     "metadata": {},
     "output_type": "execute_result"
    }
   ],
   "source": [
    "ln=numpy.linspace(10,200,10)\n",
    "ln"
   ]
  },
  {
   "cell_type": "code",
   "execution_count": 52,
   "id": "89c303ae",
   "metadata": {},
   "outputs": [
    {
     "name": "stdout",
     "output_type": "stream",
     "text": [
      "[ 0  1  2  3  4  5  6  7  8  9 10 11 12 13 14 15 16 17 18 19 20 21 22 23\n",
      " 24]\n"
     ]
    }
   ],
   "source": [
    "print(numpy.arange(25))"
   ]
  },
  {
   "cell_type": "markdown",
   "id": "3c7b3301",
   "metadata": {},
   "source": [
    "### Random()\n",
    "- It is used to generate random variables within a range\n"
   ]
  },
  {
   "cell_type": "code",
   "execution_count": 2,
   "id": "7e922e0b",
   "metadata": {},
   "outputs": [
    {
     "data": {
      "text/plain": [
       "3"
      ]
     },
     "execution_count": 2,
     "metadata": {},
     "output_type": "execute_result"
    }
   ],
   "source": [
    "import numpy as n\n",
    "rns=n.random.randint(10)\n",
    "rns"
   ]
  },
  {
   "cell_type": "code",
   "execution_count": 10,
   "id": "609ae74c",
   "metadata": {},
   "outputs": [
    {
     "name": "stdout",
     "output_type": "stream",
     "text": [
      "7 70\n"
     ]
    },
    {
     "data": {
      "text/plain": [
       "array([[64, 39, 16, 54],\n",
       "       [ 8, 12, 23, 53]])"
      ]
     },
     "execution_count": 10,
     "metadata": {},
     "output_type": "execute_result"
    }
   ],
   "source": [
    "lw,up=map(int,input().split())\n",
    "ri=n.random.randint(lw,up,8)\n",
    "ri.reshape(2,4)"
   ]
  },
  {
   "cell_type": "code",
   "execution_count": 11,
   "id": "5b8b678c",
   "metadata": {},
   "outputs": [
    {
     "data": {
      "text/plain": [
       "array([[0.22836342, 0.47464004, 0.08965159],\n",
       "       [0.8737767 , 0.76152173, 0.07532872]])"
      ]
     },
     "execution_count": 11,
     "metadata": {},
     "output_type": "execute_result"
    }
   ],
   "source": [
    "n.random.random((2,3))"
   ]
  },
  {
   "cell_type": "code",
   "execution_count": 12,
   "id": "fb7ed26c",
   "metadata": {},
   "outputs": [
    {
     "data": {
      "text/plain": [
       "array([[0.38893253, 0.28165734, 0.64038693],\n",
       "       [0.86107913, 0.98040578, 0.95922006],\n",
       "       [0.64098515, 0.0423939 , 0.28601919],\n",
       "       [0.44725653, 0.88340832, 0.65555867]])"
      ]
     },
     "execution_count": 12,
     "metadata": {},
     "output_type": "execute_result"
    }
   ],
   "source": [
    "n.random.rand(4,3)"
   ]
  },
  {
   "cell_type": "code",
   "execution_count": 14,
   "id": "343b7d08",
   "metadata": {},
   "outputs": [
    {
     "data": {
      "text/plain": [
       "array([[ 0.9969109 ,  0.6524848 , -0.29425183,  1.23786192],\n",
       "       [-1.25116032,  0.31717464,  0.40811528,  0.66798768],\n",
       "       [ 0.30767189,  0.48047435, -0.49574673,  0.73028752]])"
      ]
     },
     "execution_count": 14,
     "metadata": {},
     "output_type": "execute_result"
    }
   ],
   "source": [
    "n.random.randn(3,4)"
   ]
  },
  {
   "cell_type": "code",
   "execution_count": 15,
   "id": "43113c46",
   "metadata": {},
   "outputs": [
    {
     "data": {
      "text/plain": [
       "array([ 1.,  2.,  3.,  4.,  5.,  6.,  7.,  8.,  9., 10., 11., 12., 13.,\n",
       "       14., 15., 16., 17., 18., 19., 20., 21., 22., 23., 24., 25., 26.,\n",
       "       27., 28., 29., 30., 31., 32., 33., 34., 35., 36., 37., 38., 39.,\n",
       "       40., 41., 42., 43., 44., 45., 46., 47., 48., 49., 50.])"
      ]
     },
     "execution_count": 15,
     "metadata": {},
     "output_type": "execute_result"
    }
   ],
   "source": [
    "n.linspace(1,50)"
   ]
  },
  {
   "cell_type": "code",
   "execution_count": 16,
   "id": "1d26178f",
   "metadata": {},
   "outputs": [
    {
     "data": {
      "text/plain": [
       "array([ 1.        ,  6.44444444, 11.88888889, 17.33333333, 22.77777778,\n",
       "       28.22222222, 33.66666667, 39.11111111, 44.55555556, 50.        ])"
      ]
     },
     "execution_count": 16,
     "metadata": {},
     "output_type": "execute_result"
    }
   ],
   "source": [
    "n.linspace(1,50,10)"
   ]
  },
  {
   "cell_type": "code",
   "execution_count": 19,
   "id": "47c18307",
   "metadata": {
    "scrolled": true
   },
   "outputs": [
    {
     "name": "stdout",
     "output_type": "stream",
     "text": [
      "Help on function linspace in module numpy:\n",
      "\n",
      "linspace(start, stop, num=50, endpoint=True, retstep=False, dtype=None, axis=0)\n",
      "    Return evenly spaced numbers over a specified interval.\n",
      "    \n",
      "    Returns `num` evenly spaced samples, calculated over the\n",
      "    interval [`start`, `stop`].\n",
      "    \n",
      "    The endpoint of the interval can optionally be excluded.\n",
      "    \n",
      "    .. versionchanged:: 1.16.0\n",
      "        Non-scalar `start` and `stop` are now supported.\n",
      "    \n",
      "    .. versionchanged:: 1.20.0\n",
      "        Values are rounded towards ``-inf`` instead of ``0`` when an\n",
      "        integer ``dtype`` is specified. The old behavior can\n",
      "        still be obtained with ``np.linspace(start, stop, num).astype(int)``\n",
      "    \n",
      "    Parameters\n",
      "    ----------\n",
      "    start : array_like\n",
      "        The starting value of the sequence.\n",
      "    stop : array_like\n",
      "        The end value of the sequence, unless `endpoint` is set to False.\n",
      "        In that case, the sequence consists of all but the last of ``num + 1``\n",
      "        evenly spaced samples, so that `stop` is excluded.  Note that the step\n",
      "        size changes when `endpoint` is False.\n",
      "    num : int, optional\n",
      "        Number of samples to generate. Default is 50. Must be non-negative.\n",
      "    endpoint : bool, optional\n",
      "        If True, `stop` is the last sample. Otherwise, it is not included.\n",
      "        Default is True.\n",
      "    retstep : bool, optional\n",
      "        If True, return (`samples`, `step`), where `step` is the spacing\n",
      "        between samples.\n",
      "    dtype : dtype, optional\n",
      "        The type of the output array.  If `dtype` is not given, the data type\n",
      "        is inferred from `start` and `stop`. The inferred dtype will never be\n",
      "        an integer; `float` is chosen even if the arguments would produce an\n",
      "        array of integers.\n",
      "    \n",
      "        .. versionadded:: 1.9.0\n",
      "    \n",
      "    axis : int, optional\n",
      "        The axis in the result to store the samples.  Relevant only if start\n",
      "        or stop are array-like.  By default (0), the samples will be along a\n",
      "        new axis inserted at the beginning. Use -1 to get an axis at the end.\n",
      "    \n",
      "        .. versionadded:: 1.16.0\n",
      "    \n",
      "    Returns\n",
      "    -------\n",
      "    samples : ndarray\n",
      "        There are `num` equally spaced samples in the closed interval\n",
      "        ``[start, stop]`` or the half-open interval ``[start, stop)``\n",
      "        (depending on whether `endpoint` is True or False).\n",
      "    step : float, optional\n",
      "        Only returned if `retstep` is True\n",
      "    \n",
      "        Size of spacing between samples.\n",
      "    \n",
      "    \n",
      "    See Also\n",
      "    --------\n",
      "    arange : Similar to `linspace`, but uses a step size (instead of the\n",
      "             number of samples).\n",
      "    geomspace : Similar to `linspace`, but with numbers spaced evenly on a log\n",
      "                scale (a geometric progression).\n",
      "    logspace : Similar to `geomspace`, but with the end points specified as\n",
      "               logarithms.\n",
      "    \n",
      "    Examples\n",
      "    --------\n",
      "    >>> np.linspace(2.0, 3.0, num=5)\n",
      "    array([2.  , 2.25, 2.5 , 2.75, 3.  ])\n",
      "    >>> np.linspace(2.0, 3.0, num=5, endpoint=False)\n",
      "    array([2. ,  2.2,  2.4,  2.6,  2.8])\n",
      "    >>> np.linspace(2.0, 3.0, num=5, retstep=True)\n",
      "    (array([2.  ,  2.25,  2.5 ,  2.75,  3.  ]), 0.25)\n",
      "    \n",
      "    Graphical illustration:\n",
      "    \n",
      "    >>> import matplotlib.pyplot as plt\n",
      "    >>> N = 8\n",
      "    >>> y = np.zeros(N)\n",
      "    >>> x1 = np.linspace(0, 10, N, endpoint=True)\n",
      "    >>> x2 = np.linspace(0, 10, N, endpoint=False)\n",
      "    >>> plt.plot(x1, y, 'o')\n",
      "    [<matplotlib.lines.Line2D object at 0x...>]\n",
      "    >>> plt.plot(x2, y + 0.5, 'o')\n",
      "    [<matplotlib.lines.Line2D object at 0x...>]\n",
      "    >>> plt.ylim([-0.5, 1])\n",
      "    (-0.5, 1)\n",
      "    >>> plt.show()\n",
      "\n"
     ]
    }
   ],
   "source": [
    "help(n.linspace)"
   ]
  },
  {
   "cell_type": "markdown",
   "id": "1d1eb0fc",
   "metadata": {},
   "source": [
    "### <u>Accessing the array elements</u>\n",
    "-   ***using index we recognize array elwments***\n",
    "-   ***Indexing is of 3 types***\n",
    "-   ***+ve indexing,-ve indexing and fancy indexing***\n",
    "1. **+ve indexing**\n",
    "   - ***Traverse from left to right***\n",
    "2. **-ve indexing**\n",
    "   - ***Traverse from  right to left***\n",
    "3. **Fancy indexing**\n",
    "   - ***Condition Based index***"
   ]
  },
  {
   "cell_type": "code",
   "execution_count": 24,
   "id": "1b405204",
   "metadata": {},
   "outputs": [
    {
     "data": {
      "text/plain": [
       "array([[ 71,  77, 179, 179, 122],\n",
       "       [143, 158, 121, 143, 145],\n",
       "       [185,  54, 104, 117, 156],\n",
       "       [131, 180, 196,  67, 108],\n",
       "       [155,  77,  69, 111,  88]])"
      ]
     },
     "execution_count": 24,
     "metadata": {},
     "output_type": "execute_result"
    }
   ],
   "source": [
    "r=n.random.randint(50,200,25).reshape(5,-1)\n",
    "r"
   ]
  },
  {
   "cell_type": "code",
   "execution_count": 22,
   "id": "268ebd51",
   "metadata": {},
   "outputs": [
    {
     "data": {
      "text/plain": [
       "array([[198,  81,  80,  64, 104],\n",
       "       [118, 101, 174,  51, 174],\n",
       "       [ 75,  73, 121, 129,  78],\n",
       "       [ 97, 192, 186, 199, 124],\n",
       "       [130,  76,  64, 131, 120]])"
      ]
     },
     "execution_count": 22,
     "metadata": {},
     "output_type": "execute_result"
    }
   ],
   "source": [
    "rr=n.random.randint(50,200,25).reshape(-1,5)\n",
    "rr"
   ]
  },
  {
   "cell_type": "code",
   "execution_count": 25,
   "id": "5310310f",
   "metadata": {},
   "outputs": [
    {
     "data": {
      "text/plain": [
       "array([ 97, 192, 186, 199, 124])"
      ]
     },
     "execution_count": 25,
     "metadata": {},
     "output_type": "execute_result"
    }
   ],
   "source": [
    "rr[3]"
   ]
  },
  {
   "cell_type": "code",
   "execution_count": 26,
   "id": "c68510ef",
   "metadata": {},
   "outputs": [
    {
     "data": {
      "text/plain": [
       "array([[ 77, 179, 179],\n",
       "       [158, 121, 143],\n",
       "       [ 54, 104, 117],\n",
       "       [180, 196,  67],\n",
       "       [ 77,  69, 111]])"
      ]
     },
     "execution_count": 26,
     "metadata": {},
     "output_type": "execute_result"
    }
   ],
   "source": [
    "r[:,1:4]"
   ]
  },
  {
   "cell_type": "code",
   "execution_count": 27,
   "id": "2891f02a",
   "metadata": {
    "collapsed": true
   },
   "outputs": [
    {
     "name": "stdout",
     "output_type": "stream",
     "text": [
      "77\n",
      "179\n",
      "179\n",
      "121\n",
      "143\n",
      "117\n",
      "67\n",
      "77\n",
      "69\n",
      "111\n"
     ]
    }
   ],
   "source": [
    "sub=r[:,1:4]\n",
    "for line in sub:\n",
    "    for val in line:\n",
    "        if val%2==1:\n",
    "            print(val)"
   ]
  },
  {
   "cell_type": "code",
   "execution_count": 28,
   "id": "8031a463",
   "metadata": {},
   "outputs": [
    {
     "data": {
      "text/plain": [
       "array([[ 71, 143, 185, 131, 155],\n",
       "       [ 77, 158,  54, 180,  77],\n",
       "       [179, 121, 104, 196,  69],\n",
       "       [179, 143, 117,  67, 111],\n",
       "       [122, 145, 156, 108,  88]])"
      ]
     },
     "execution_count": 28,
     "metadata": {},
     "output_type": "execute_result"
    }
   ],
   "source": [
    "r.transpose()"
   ]
  },
  {
   "cell_type": "code",
   "execution_count": 29,
   "id": "d19f00b9",
   "metadata": {},
   "outputs": [
    {
     "data": {
      "text/plain": [
       "array([[ True,  True, False, False, False],\n",
       "       [False, False, False, False, False],\n",
       "       [False,  True, False, False, False],\n",
       "       [False, False, False,  True, False],\n",
       "       [False,  True,  True, False,  True]])"
      ]
     },
     "execution_count": 29,
     "metadata": {},
     "output_type": "execute_result"
    }
   ],
   "source": [
    "r<100\n"
   ]
  },
  {
   "cell_type": "code",
   "execution_count": 30,
   "id": "51b14453",
   "metadata": {},
   "outputs": [
    {
     "data": {
      "text/plain": [
       "array([71, 77, 54, 67, 77, 69, 88])"
      ]
     },
     "execution_count": 30,
     "metadata": {},
     "output_type": "execute_result"
    }
   ],
   "source": [
    "r[r<100]"
   ]
  },
  {
   "cell_type": "code",
   "execution_count": 31,
   "id": "b8b86243",
   "metadata": {},
   "outputs": [
    {
     "name": "stdout",
     "output_type": "stream",
     "text": [
      "[[ 75  81 183 183 126]\n",
      " [147 162 125 147 149]\n",
      " [189  58 108 121 160]\n",
      " [135 184 200  71 112]\n",
      " [159  81  73 115  92]]\n"
     ]
    }
   ],
   "source": [
    "s=n.random.randint(1,7)\n",
    "print(s+r)"
   ]
  },
  {
   "cell_type": "code",
   "execution_count": 32,
   "id": "9a13cedd",
   "metadata": {},
   "outputs": [
    {
     "data": {
      "text/plain": [
       "array([[269, 158, 259, 243, 226],\n",
       "       [261, 259, 295, 194, 319],\n",
       "       [260, 127, 225, 246, 234],\n",
       "       [228, 372, 382, 266, 232],\n",
       "       [285, 153, 133, 242, 208]])"
      ]
     },
     "execution_count": 32,
     "metadata": {},
     "output_type": "execute_result"
    }
   ],
   "source": [
    "r+rr"
   ]
  },
  {
   "cell_type": "code",
   "execution_count": 33,
   "id": "06b94af6",
   "metadata": {},
   "outputs": [
    {
     "data": {
      "text/plain": [
       "array([[14058,  6237, 14320, 11456, 12688],\n",
       "       [16874, 15958, 21054,  7293, 25230],\n",
       "       [13875,  3942, 12584, 15093, 12168],\n",
       "       [12707, 34560, 36456, 13333, 13392],\n",
       "       [20150,  5852,  4416, 14541, 10560]])"
      ]
     },
     "execution_count": 33,
     "metadata": {},
     "output_type": "execute_result"
    }
   ],
   "source": [
    "r*rr"
   ]
  },
  {
   "cell_type": "code",
   "execution_count": 34,
   "id": "91e58b95",
   "metadata": {},
   "outputs": [
    {
     "data": {
      "text/plain": [
       "125.44"
      ]
     },
     "execution_count": 34,
     "metadata": {},
     "output_type": "execute_result"
    }
   ],
   "source": [
    "r.mean()"
   ]
  },
  {
   "cell_type": "code",
   "execution_count": 35,
   "id": "7f296a33",
   "metadata": {},
   "outputs": [
    {
     "data": {
      "text/plain": [
       "3136"
      ]
     },
     "execution_count": 35,
     "metadata": {},
     "output_type": "execute_result"
    }
   ],
   "source": [
    "r.sum()"
   ]
  },
  {
   "cell_type": "code",
   "execution_count": 36,
   "id": "0934ff21",
   "metadata": {},
   "outputs": [
    {
     "name": "stdout",
     "output_type": "stream",
     "text": [
      "196\n"
     ]
    },
    {
     "data": {
      "text/plain": [
       "54"
      ]
     },
     "execution_count": 36,
     "metadata": {},
     "output_type": "execute_result"
    }
   ],
   "source": [
    "print(r.max())\n",
    "r.min()"
   ]
  },
  {
   "cell_type": "code",
   "execution_count": 37,
   "id": "95be6ca7",
   "metadata": {},
   "outputs": [
    {
     "data": {
      "text/plain": [
       "array([[ 71,  77, 179, 179, 122],\n",
       "       [143, 158, 121, 143, 145],\n",
       "       [185,  54, 104, 117, 156],\n",
       "       [131, 180, 196,  67, 108],\n",
       "       [155,  77,  69, 111,  88]])"
      ]
     },
     "execution_count": 37,
     "metadata": {},
     "output_type": "execute_result"
    }
   ],
   "source": [
    "r"
   ]
  },
  {
   "cell_type": "code",
   "execution_count": 38,
   "id": "49f797ea",
   "metadata": {},
   "outputs": [
    {
     "data": {
      "text/plain": [
       "array([ 71,  77, 179, 179, 122])"
      ]
     },
     "execution_count": 38,
     "metadata": {},
     "output_type": "execute_result"
    }
   ],
   "source": [
    "r[0]"
   ]
  },
  {
   "cell_type": "code",
   "execution_count": 3,
   "id": "7d3af23a",
   "metadata": {},
   "outputs": [
    {
     "name": "stderr",
     "output_type": "stream",
     "text": [
      "<ipython-input-3-a8c9fb9096ee>:2: RuntimeWarning: divide by zero encountered in log\n",
      "  n.log(0)\n"
     ]
    },
    {
     "data": {
      "text/plain": [
       "-inf"
      ]
     },
     "execution_count": 3,
     "metadata": {},
     "output_type": "execute_result"
    }
   ],
   "source": [
    "import numpy as n\n",
    "n.log(0)"
   ]
  },
  {
   "cell_type": "code",
   "execution_count": 4,
   "id": "74be1f4f",
   "metadata": {},
   "outputs": [
    {
     "data": {
      "text/plain": [
       "0.0"
      ]
     },
     "execution_count": 4,
     "metadata": {},
     "output_type": "execute_result"
    }
   ],
   "source": [
    "n.log(1)"
   ]
  },
  {
   "cell_type": "code",
   "execution_count": 5,
   "id": "0f1e4c12",
   "metadata": {},
   "outputs": [
    {
     "data": {
      "text/plain": [
       "2.302585092994046"
      ]
     },
     "execution_count": 5,
     "metadata": {},
     "output_type": "execute_result"
    }
   ],
   "source": [
    "n.log(10)"
   ]
  },
  {
   "cell_type": "code",
   "execution_count": 6,
   "id": "77bc42ba",
   "metadata": {},
   "outputs": [
    {
     "data": {
      "text/plain": [
       "2.718281828459045"
      ]
     },
     "execution_count": 6,
     "metadata": {},
     "output_type": "execute_result"
    }
   ],
   "source": [
    "n.exp(1)"
   ]
  },
  {
   "cell_type": "code",
   "execution_count": 7,
   "id": "c5fa3151",
   "metadata": {},
   "outputs": [
    {
     "data": {
      "text/plain": [
       "7.0"
      ]
     },
     "execution_count": 7,
     "metadata": {},
     "output_type": "execute_result"
    }
   ],
   "source": [
    "n.log(n.exp(7))"
   ]
  },
  {
   "cell_type": "code",
   "execution_count": 10,
   "id": "a753f345",
   "metadata": {},
   "outputs": [],
   "source": [
    "def greater(x,y):\n",
    "    l=[]\n",
    "    for i in range(len(x)):\n",
    "        if(x[i]>y[i]):\n",
    "            l.append(x[i])\n",
    "        else:\n",
    "            l.append(y[i])\n",
    "    return l"
   ]
  },
  {
   "cell_type": "code",
   "execution_count": 12,
   "id": "eb719c82",
   "metadata": {},
   "outputs": [
    {
     "name": "stdout",
     "output_type": "stream",
     "text": [
      "[7, 5, 9]\n"
     ]
    }
   ],
   "source": [
    "print(greater([4,5,6],[7,3,9]))"
   ]
  },
  {
   "cell_type": "code",
   "execution_count": null,
   "id": "6f5cab4c",
   "metadata": {},
   "outputs": [],
   "source": []
  }
 ],
 "metadata": {
  "kernelspec": {
   "display_name": "Python 3",
   "language": "python",
   "name": "python3"
  },
  "language_info": {
   "codemirror_mode": {
    "name": "ipython",
    "version": 3
   },
   "file_extension": ".py",
   "mimetype": "text/x-python",
   "name": "python",
   "nbconvert_exporter": "python",
   "pygments_lexer": "ipython3",
   "version": "3.8.8"
  }
 },
 "nbformat": 4,
 "nbformat_minor": 5
}
